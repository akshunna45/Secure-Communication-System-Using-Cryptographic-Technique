{
  "nbformat": 4,
  "nbformat_minor": 0,
  "metadata": {
    "colab": {
      "name": "Cryptography_Project (2).ipynb",
      "provenance": [],
      "collapsed_sections": []
    },
    "kernelspec": {
      "display_name": "Python 3",
      "name": "python3"
    }
  },
  "cells": [
    {
      "cell_type": "code",
      "metadata": {
        "colab": {
          "base_uri": "https://localhost:8080/"
        },
        "id": "ejAMU1t7Z6WH",
        "outputId": "a3fbe5ee-1930-41a3-f253-e295aa87f8ff"
      },
      "source": [
        "# Python code to implement Vigenere Cipher \n",
        "# This function generates the key in a cyclic manner until it's length isn't equal to the length of original text \n",
        "\n",
        "def generateKey(string, key): \n",
        "\tkey = list(key) \n",
        "\tif len(string) == len(key): \n",
        "\t\treturn(key) \n",
        "\telse: \n",
        "\t\tfor i in range(len(string) -\n",
        "\t\t\t\t\tlen(key)): \n",
        "\t\t\tkey.append(key[i % len(key)]) \n",
        "\treturn(\"\" . join(key)) \n",
        "\t\n",
        "# This function returns the encrypted text generated with the help of the key \n",
        "\n",
        "def cipherText(string, key): \n",
        "\tcipher_text = [] \n",
        "\tfor i in range(len(string)): \n",
        "\t\tx = (ord(string[i]) +\n",
        "\t\t\tord(key[i])) % 26\n",
        "\t\tx += ord('A') \n",
        "\t\tcipher_text.append(chr(x)) \n",
        "\treturn(\"\" . join(cipher_text)) \n",
        "\t\n",
        "# This function decrypts the encrypted text and returns the original text \n",
        "\n",
        "def originalText(cipher_text, key): \n",
        "\torig_text = [] \n",
        "\tfor i in range(len(cipher_text)): \n",
        "\t\tx = (ord(cipher_text[i]) -\n",
        "\t\t\tord(key[i]) + 26) % 26\n",
        "\t\tx += ord('A') \n",
        "\t\torig_text.append(chr(x)) \n",
        "\treturn(\"\" . join(orig_text)) \n",
        "\t\n",
        "# Driver code \n",
        "\n",
        "if __name__ == \"__main__\": \n",
        "\tstring = \"AMERICAN VIRUS\"\n",
        "\tkeyword = \"DELHI\"\n",
        "\tkey = generateKey(string, keyword) \n",
        "\tcipher_text = cipherText(string,key) \n",
        "\tprint(\"Ciphertext :\", cipher_text) \n",
        "\tprint(\"Original/Decrypted Text :\", \n",
        "\t\toriginalText(cipher_text, key)) \n",
        "\n",
        "\n"
      ],
      "execution_count": 12,
      "outputs": [
        {
          "output_type": "stream",
          "text": [
            "Ciphertext : DQPYQFEYADLVFZ\n",
            "Original/Decrypted Text : AMERICANTVIRUS\n"
          ],
          "name": "stdout"
        }
      ]
    },
    {
      "cell_type": "code",
      "metadata": {
        "colab": {
          "base_uri": "https://localhost:8080/"
        },
        "id": "EOiDLNKppy29",
        "outputId": "1f5dbb17-2d54-4c34-8ba5-4d501829ad96"
      },
      "source": [
        "  from string import ascii_uppercase as alphabet\n",
        "\n",
        "\n",
        "def codes_table(char):\n",
        "    table = {\n",
        "        \"A\": 11, \"B\": 21, \"C\": 31, \"D\": 41, \"E\": 51,\n",
        "        \"F\": 12, \"G\": 22, \"H\": 32, \"I\": 42, \"K\": 52,\n",
        "        \"L\": 13, \"M\": 23, \"N\": 33, \"O\": 43, \"P\": 53,\n",
        "        \"Q\": 14, \"R\": 24, \"S\": 34, \"T\": 44, \"U\": 54,\n",
        "        \"V\": 15, \"W\": 25, \"X\": 35, \"Y\": 45, \"Z\": 55, \"J\": 0,\n",
        "\n",
        "        11: \"A\", 21: \"B\", 31: \"C\", 41: \"D\", 51: \"E\",\n",
        "        12: \"F\", 22: \"G\", 32: \"H\", 42: \"I\", 52: \"K\",\n",
        "        13: \"L\", 23: \"M\", 33: \"N\", 43: \"O\", 53: \"P\",\n",
        "        14: \"Q\", 24: \"R\", 34: \"S\", 44: \"T\", 54: \"U\",\n",
        "        15: \"V\", 25: \"W\", 35: \"X\", 45: \"Y\", 55: \"Z\", 0: \"J\"\n",
        "    }\n",
        "\n",
        "    return table[char]\n",
        "\n",
        "\n",
        "def encoding(text):\n",
        "    text, finished_text = text.upper(), \"\"\n",
        "    for symbol in text:\n",
        "        if symbol in alphabet:\n",
        "            finished_text += str(codes_table(symbol)) + \" \"\n",
        "\n",
        "    return finished_text\n",
        "\n",
        "\n",
        "def decoding(text):\n",
        "    text, finished_text = text.upper(), \"\"\n",
        "    for symbol in list(map(int, text.split())):\n",
        "        finished_text += codes_table(symbol)\n",
        "\n",
        "    return finished_text\n",
        "\n",
        "\n",
        "def assembly(mode):\n",
        "    text = str(input(\"[+] Enter your text - \"))\n",
        "\n",
        "    if mode == 0:\n",
        "        finished_text = encoding(text)\n",
        "    else:\n",
        "        finished_text = decoding(text)\n",
        "\n",
        "    print(\"\\n »» The result of encoding . ««\")\n",
        "    print(finished_text)\n",
        "\n",
        "\n",
        "def main():\n",
        "    print(\"[x]Hybrid of Vigenere & Polybius Square cryptography algorithm. [x]\")\n",
        "    print(\" • 0. Encoding mode.\\n • 1. Decoding mode.\")\n",
        "\n",
        "    mode = int(input(\"[?] Select program mode - \"))\n",
        "    assembly(mode)\n",
        "\n",
        "\n",
        "if __name__ == '__main__':\n",
        "    main()"
      ],
      "execution_count": 14,
      "outputs": [
        {
          "output_type": "stream",
          "text": [
            "[x]Hybrid of Vigenere & Polybius Square cryptography algorithm. [x]\n",
            " • 0. Encoding mode.\n",
            " • 1. Decoding mode.\n",
            "[?] Select program mode - 1\n",
            "[+] Enter your text - 32 51 13 13 43 25 43 24 13 41\n",
            "\n",
            " »» The result of encoding . ««\n",
            "HELLOWORLD\n"
          ],
          "name": "stdout"
        }
      ]
    }
  ]
}